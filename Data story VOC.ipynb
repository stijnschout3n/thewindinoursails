{
 "cells": [
  {
   "cell_type": "markdown",
   "metadata": {},
   "source": [
    "### The life of Hendrik Prins\n",
    "\n",
    "\n",
    "![VOC Logo](https://upload.wikimedia.org/wikipedia/commons/thumb/5/5e/VOC.svg/180px-VOC.svg.png)\n",
    "\n",
    "\n",
    "The Vereenigde Oostindische (VOC) <a href=\"https://www.visualcapitalist.com/most-valuable-companies-all-time/\" target=\"_blank\">was one of the largest employers in the 1700-1800s.</a> Naturally, a sizable portion of the Dutch Republics' population was employed by the VOC. This phenomenon does not only sparks the interest of historians but also of other enthusiasts, especially if a forefather was known to be employed by the VOC. We have such a case with a personal relation of mine, the Prins family. By their research, they know that their forefather was named Hendrik Prins, and he had his origins in Delft. Interestingly enough, they still have the VOC emblem of Hendrik. \n",
    "\n",
    "In this short data story, we will look into the life of Hendrik Prins. We start by just knowing his name and birthplace and use the VOC knowledge graph to explore related voyages, goods, and events during the life of Hendrik Prins. \n",
    "\n",
    "*Data story by Stijn Schouten, written on 26-06-2021*\n",
    "*Composed using JupyterLab, using the SPARQLWrapper to access the GraphDB endpoint.*\n"
   ]
  },
  {
   "cell_type": "code",
   "execution_count": 27,
   "metadata": {
    "tags": [
     "{toggle}"
    ]
   },
   "outputs": [],
   "source": [
    "#!pip install SPARQLWrapper\n",
    "#!pip install pandas\n",
    "#!pip install tabulate\n",
    "\n",
    "from SPARQLWrapper import SPARQLWrapper, SPARQLWrapper2, JSON, JSONLD, CSV, TSV, N3, RDF, RDFXML, TURTLE\n",
    "import pandas as pd\n",
    "import itertools\n",
    "from IPython.display import display, HTML\n",
    "from matplotlib import pyplot\n",
    "from datetime import date\n",
    "import numpy as np"
   ]
  },
  {
   "cell_type": "code",
   "execution_count": 28,
   "metadata": {},
   "outputs": [],
   "source": [
    "sparql = SPARQLWrapper(\"http://localhost:7200/repositories/metaphactory\")\n",
    "sparql.setReturnFormat(JSON)\n",
    "prefixes = \"\"\"\n",
    "PREFIX rdf: <http://www.w3.org/1999/02/22-rdf-syntax-ns#>\n",
    "PREFIX rdfs: <http://www.w3.org/2000/01/rdf-schema#>\n",
    "PREFIX crm: <http://www.cidoc-crm.org/cidoc-crm/>\n",
    "PREFIX ex: <http://example.com/>\n",
    "PREFIX cdfh: <http://dataforhistory.org/maritime-history-ongoing/class/>\n",
    "PREFIX pdfh: <http://dataforhistory.org/maritime-history-ongoing/property/>\n",
    "PREFIX dfhc: <https://dataforhistory.org/ontology/maritimehistorycontinued/>\n",
    "PREFIX histsocP: <http://dataforhistory.org/histsocial-ongoing/property/>\n",
    "PREFIX histsocC: <http://dataforhistory.org/histsocial-ongoing/class/>\n",
    "PREFIX histdmiC: <http://dataforhistory.org/histdmi-generic-ongoing/class/>\n",
    "PREFIX histdmiP: <http://dataforhistory.org/histdmi-generic-ongoing/property/>\n",
    "\"\"\""
   ]
  },
  {
   "cell_type": "markdown",
   "metadata": {},
   "source": [
    "#### Finding Hendrik Prins\n",
    "\n",
    "In the query below, we select all the persons who originated from Delft NL and filter out the Hendrik Prins name."
   ]
  },
  {
   "cell_type": "code",
   "execution_count": 31,
   "metadata": {},
   "outputs": [],
   "source": [
    "sparql.setQuery(prefixes+\"\"\"\n",
    "SELECT ?person ?name ?from\n",
    "WHERE\n",
    "{\n",
    "?person histsocP:P24 <http://example.com/place/vocUniquePlaceID_1192>.\n",
    "<http://example.com/place/vocUniquePlaceID_1192> crm:P1 ?from.\n",
    "?person dfhc:P8 ?name.\n",
    "filter contains(?name,\"Hendrik Prins\")\n",
    "} \"\"\")"
   ]
  },
  {
   "cell_type": "code",
   "execution_count": 32,
   "metadata": {},
   "outputs": [
    {
     "data": {
      "text/html": [
       "<div>\n",
       "<style scoped>\n",
       "    .dataframe tbody tr th:only-of-type {\n",
       "        vertical-align: middle;\n",
       "    }\n",
       "\n",
       "    .dataframe tbody tr th {\n",
       "        vertical-align: top;\n",
       "    }\n",
       "\n",
       "    .dataframe thead th {\n",
       "        text-align: right;\n",
       "    }\n",
       "</style>\n",
       "<table border=\"1\" class=\"dataframe\">\n",
       "  <thead>\n",
       "    <tr style=\"text-align: right;\">\n",
       "      <th></th>\n",
       "      <th>person</th>\n",
       "      <th>name</th>\n",
       "      <th>from</th>\n",
       "    </tr>\n",
       "  </thead>\n",
       "  <tbody>\n",
       "    <tr>\n",
       "      <th>0</th>\n",
       "      <td>person/1042325</td>\n",
       "      <td>Hendrik Prins</td>\n",
       "      <td>appellation/Delft_NL</td>\n",
       "    </tr>\n",
       "    <tr>\n",
       "      <th>1</th>\n",
       "      <td>person/1087798</td>\n",
       "      <td>Hendrik Prins</td>\n",
       "      <td>appellation/Delft_NL</td>\n",
       "    </tr>\n",
       "  </tbody>\n",
       "</table>\n",
       "</div>"
      ],
      "text/plain": [
       "           person           name                  from\n",
       "0  person/1042325  Hendrik Prins  appellation/Delft_NL\n",
       "1  person/1087798  Hendrik Prins  appellation/Delft_NL"
      ]
     },
     "metadata": {},
     "output_type": "display_data"
    }
   ],
   "source": [
    "qry = sparql.query().convert()\n",
    "df = pd.DataFrame(qry['results']['bindings'])\n",
    "df = df.applymap(lambda x: x['value'])\n",
    "dfn = df.replace(\"http://example.com/\",\"\",regex=True)\n",
    "display(dfn)"
   ]
  },
  {
   "cell_type": "markdown",
   "metadata": {},
   "source": [
    "We find that there are two records with the name Hendrik Prins who originated from Delft. We can take a closer into these persons by retrieving more information."
   ]
  },
  {
   "cell_type": "code",
   "execution_count": 33,
   "metadata": {},
   "outputs": [],
   "source": [
    "sparql.setQuery(prefixes +\"\"\"\n",
    "SELECT ?person ?participation ?timespan ?reasonend\n",
    "WHERE\n",
    "{\n",
    "    ?person histsocP:P24 <http://example.com/place/vocUniquePlaceID_1192>.\n",
    "    ?person dfhc:P8 ?name.\n",
    "    ?participation histsocP:P10 ?person.\n",
    "    ?participation crm:P4 ?timespan.\n",
    "    ?reasonend crm:P115 ?participation.\n",
    "    filter contains(?name,\"Hendrik Prins\")\n",
    "}\"\"\")"
   ]
  },
  {
   "cell_type": "code",
   "execution_count": 34,
   "metadata": {},
   "outputs": [
    {
     "data": {
      "text/html": [
       "<div>\n",
       "<style scoped>\n",
       "    .dataframe tbody tr th:only-of-type {\n",
       "        vertical-align: middle;\n",
       "    }\n",
       "\n",
       "    .dataframe tbody tr th {\n",
       "        vertical-align: top;\n",
       "    }\n",
       "\n",
       "    .dataframe thead th {\n",
       "        text-align: right;\n",
       "    }\n",
       "</style>\n",
       "<table border=\"1\" class=\"dataframe\">\n",
       "  <thead>\n",
       "    <tr style=\"text-align: right;\">\n",
       "      <th></th>\n",
       "      <th>participation</th>\n",
       "      <th>person</th>\n",
       "      <th>timespan</th>\n",
       "      <th>reasonend</th>\n",
       "    </tr>\n",
       "  </thead>\n",
       "  <tbody>\n",
       "    <tr>\n",
       "      <th>0</th>\n",
       "      <td>participation/94248-1042325</td>\n",
       "      <td>person/1042325</td>\n",
       "      <td>appellation/1741-03-29_1743-07-20</td>\n",
       "      <td>endofexistence/Repatriated</td>\n",
       "    </tr>\n",
       "    <tr>\n",
       "      <th>1</th>\n",
       "      <td>participation/94327-1042325</td>\n",
       "      <td>person/1042325</td>\n",
       "      <td>appellation/1743-11-27_1745-08-24</td>\n",
       "      <td>endofexistence/Repatriated</td>\n",
       "    </tr>\n",
       "    <tr>\n",
       "      <th>2</th>\n",
       "      <td>participation/94412-1042325</td>\n",
       "      <td>person/1042325</td>\n",
       "      <td>appellation/1745-11-11_1746-06-10</td>\n",
       "      <td>endofexistence/Last_record</td>\n",
       "    </tr>\n",
       "    <tr>\n",
       "      <th>3</th>\n",
       "      <td>participation/94678-1087798</td>\n",
       "      <td>person/1087798</td>\n",
       "      <td>appellation/1754-03-06_1758-08-19</td>\n",
       "      <td>endofexistence/Deceased</td>\n",
       "    </tr>\n",
       "  </tbody>\n",
       "</table>\n",
       "</div>"
      ],
      "text/plain": [
       "                 participation          person  \\\n",
       "0  participation/94248-1042325  person/1042325   \n",
       "1  participation/94327-1042325  person/1042325   \n",
       "2  participation/94412-1042325  person/1042325   \n",
       "3  participation/94678-1087798  person/1087798   \n",
       "\n",
       "                            timespan                   reasonend  \n",
       "0  appellation/1741-03-29_1743-07-20  endofexistence/Repatriated  \n",
       "1  appellation/1743-11-27_1745-08-24  endofexistence/Repatriated  \n",
       "2  appellation/1745-11-11_1746-06-10  endofexistence/Last_record  \n",
       "3  appellation/1754-03-06_1758-08-19     endofexistence/Deceased  "
      ]
     },
     "metadata": {},
     "output_type": "display_data"
    }
   ],
   "source": [
    "qry = sparql.query().convert()\n",
    "df = pd.DataFrame(qry['results']['bindings'])\n",
    "df = df.applymap(lambda x: x['value'])\n",
    "dfn = df.replace(\"http://example.com/\",\"\",regex=True)\n",
    "\n",
    "display(dfn)"
   ]
  },
  {
   "cell_type": "markdown",
   "metadata": {},
   "source": [
    "There are four participations linked to the two records. The Hendrik Prins with identifier 1042325 starts his career in 1741 and continues enlisting three times with his last entry in 1746. The Hendrik Prins with identifier 1087798 starts his career in 1754, and it is a short-lived career as his contract ends due to him perishing on his first voyage. \n",
    "\n",
    "There is a possibility that the first Hendrik Prins could be the same as the second. There is a gap of 8 years between the last enlisting and the enlisting of the second Hendrik Prins. This gap could exist due to missing records or other reasons. The reason for the ending of the first Hendrik Prins does not give a final answer. The last record category is because of reasons unknown. \n",
    "\n",
    "The three participations of the first Hendrik Prins entry involved the same route. (screenshot) Like many others in that time, the route started from the Netherlands (Goeree) and sailed to Batavia (now Jakarta) via the Cape of Good hope. The precise route is unknown, but looking at the timeframe, there is a good chance the faster Brouwer route is used. The route is illustrated.\n",
    "\n",
    "![route](https://upload.wikimedia.org/wikipedia/commons/e/ed/The-Brouwer-Route.jpg)"
   ]
  },
  {
   "cell_type": "markdown",
   "metadata": {},
   "source": [
    "#### Data analysis\n",
    "\n",
    "We can compare the voyages of Hendrik Prins with other similar voyages which have the same starting and ending place. If the departing and arrival dates are known, we can conclude if the voyage of Hendrik Prins was, by comparison, quicker."
   ]
  },
  {
   "cell_type": "code",
   "execution_count": 35,
   "metadata": {},
   "outputs": [],
   "source": [
    "sparql.setQuery(prefixes +\"\"\"\n",
    "SELECT ?voyage ?leg ?starttime ?endtime\n",
    "  WHERE {\n",
    "  ?voyage pdfh:P1 <http://example.com/place/vocUniquePlaceID_1787>.\n",
    "  ?voyage pdfh:P2 <http://example.com/place/vocUniquePlaceID_2357>.\n",
    "  ?leg histdmiP:P5 ?voyage.\n",
    "  ?start crm:P115 ?leg;\n",
    "         crm:P4 ?starttime.\n",
    "  ?end crm:P116 ?leg;\n",
    "       crm:P4 ?endtime.\n",
    "}\n",
    "  \"\"\")"
   ]
  },
  {
   "cell_type": "code",
   "execution_count": 36,
   "metadata": {},
   "outputs": [],
   "source": [
    "qry = sparql.query().convert()\n",
    "df = pd.DataFrame(qry['results']['bindings'])\n",
    "df = df.applymap(lambda x: x['value'])\n",
    "dfn = df.replace(\"http://example.com/appellation/\",\"\",regex=True)"
   ]
  },
  {
   "cell_type": "code",
   "execution_count": 37,
   "metadata": {},
   "outputs": [
    {
     "name": "stdout",
     "output_type": "stream",
     "text": [
      "            delta\n",
      "count  542.000000\n",
      "mean   148.994465\n",
      "std    102.697238\n",
      "min     71.000000\n",
      "25%    110.000000\n",
      "50%    127.000000\n",
      "75%    152.000000\n",
      "max    868.000000\n",
      "            delta\n",
      "count  481.000000\n",
      "mean    81.446985\n",
      "std     22.556822\n",
      "min     30.000000\n",
      "25%     67.000000\n",
      "50%     79.000000\n",
      "75%     90.000000\n",
      "max    287.000000\n"
     ]
    }
   ],
   "source": [
    "firstlegs = []\n",
    "secondlegs = []\n",
    "for i in dfn.itertuples():\n",
    "    if int(i[4][-1]) == 1:\n",
    "        firstlegs.append({'starttime':date(*map(int, i[2].split('-'))), 'endtime':date(*map(int, i[1].split('-'))), 'voyage':i[3]})\n",
    "    else:\n",
    "        secondlegs.append({'starttime':date(*map(int, i[2].split('-'))), 'endtime':date(*map(int, i[1].split('-'))), 'voyage':i[3]})\n",
    "for entry in firstlegs:\n",
    "    delta = entry['starttime'] - entry['endtime']\n",
    "    entry['delta'] = delta.days\n",
    "fldf = pd.DataFrame(firstlegs)\n",
    "print(fldf[fldf.delta > 0].describe())\n",
    "\n",
    "for entry in secondlegs:\n",
    "    delta = entry['starttime'] - entry['endtime']\n",
    "    entry['delta'] = delta.days\n",
    "sldf = pd.DataFrame(secondlegs)\n",
    "print(sldf[sldf.delta > 0].describe())\n"
   ]
  },
  {
   "cell_type": "markdown",
   "metadata": {},
   "source": [
    "There are 542 first legs, from Goeree NL to the Cape of Good Hope SA registered. The mean delta (days traveled) is 148. There are exciting outliers, such as the max value of 868. Meaning a ship took around three years to complete the leg. From the Cape, 481 legs have registered that travel to Jakarta ID. The second leg is overall much shorter, with a mean of 81 days traveled. The outliers are much more confined as well, with a maximum value of 287.\n",
    "\n",
    "Hendrik Prins sailed three times on the voyages 94248, 94327, and 94412 in the outwards direction, from the Republic to the Dutch Indies. We can compare the delta (days traveled) with the other similar voyages in a boxplot. Note that the second leg misses an entry due to a missing arrival date (voyage 94327).\n",
    "\n",
    "The voyages of Hendrik Prins were, overall, quicker than the mean. "
   ]
  },
  {
   "cell_type": "code",
   "execution_count": 38,
   "metadata": {},
   "outputs": [
    {
     "data": {
      "text/html": [
       "<div>\n",
       "<style scoped>\n",
       "    .dataframe tbody tr th:only-of-type {\n",
       "        vertical-align: middle;\n",
       "    }\n",
       "\n",
       "    .dataframe tbody tr th {\n",
       "        vertical-align: top;\n",
       "    }\n",
       "\n",
       "    .dataframe thead th {\n",
       "        text-align: right;\n",
       "    }\n",
       "</style>\n",
       "<table border=\"1\" class=\"dataframe\">\n",
       "  <thead>\n",
       "    <tr style=\"text-align: right;\">\n",
       "      <th></th>\n",
       "      <th>participation</th>\n",
       "      <th>voyage</th>\n",
       "    </tr>\n",
       "  </thead>\n",
       "  <tbody>\n",
       "    <tr>\n",
       "      <th>0</th>\n",
       "      <td>participation/94248-1042325</td>\n",
       "      <td>voyage/94248</td>\n",
       "    </tr>\n",
       "    <tr>\n",
       "      <th>1</th>\n",
       "      <td>participation/94327-1042325</td>\n",
       "      <td>voyage/94327</td>\n",
       "    </tr>\n",
       "    <tr>\n",
       "      <th>2</th>\n",
       "      <td>participation/94412-1042325</td>\n",
       "      <td>voyage/94412</td>\n",
       "    </tr>\n",
       "  </tbody>\n",
       "</table>\n",
       "</div>"
      ],
      "text/plain": [
       "                 participation        voyage\n",
       "0  participation/94248-1042325  voyage/94248\n",
       "1  participation/94327-1042325  voyage/94327\n",
       "2  participation/94412-1042325  voyage/94412"
      ]
     },
     "metadata": {},
     "output_type": "display_data"
    }
   ],
   "source": [
    "sparql.setQuery(prefixes +\"\"\"\n",
    "SELECT *\n",
    "  WHERE {\n",
    "  ?participation histsocP:P10 <http://example.com/person/1042325>.\n",
    "  ?participation histsocP:P11 ?voyage.\n",
    "  ?voyage pdfh:P1 <http://example.com/place/vocUniquePlaceID_1787>.\n",
    "  ?voyage pdfh:P2 <http://example.com/place/vocUniquePlaceID_2357>.\n",
    "}\n",
    "  \"\"\")\n",
    "qry = sparql.query().convert()\n",
    "df = pd.DataFrame(qry['results']['bindings'])\n",
    "df = df.applymap(lambda x: x['value'])\n",
    "dfn = df.replace(\"http://example.com/\",\"\",regex=True)\n",
    "display(dfn)"
   ]
  },
  {
   "cell_type": "code",
   "execution_count": 12,
   "metadata": {},
   "outputs": [
    {
     "data": {
      "text/plain": [
       "<matplotlib.collections.PathCollection at 0x2ca8e325d90>"
      ]
     },
     "execution_count": 12,
     "metadata": {},
     "output_type": "execute_result"
    },
    {
     "data": {
      "image/png": "[encoded data removed]",
      "text/plain": [
       "<Figure size 432x288 with 1 Axes>"
      ]
     },
     "metadata": {
      "needs_background": "light"
     },
     "output_type": "display_data"
    }
   ],
   "source": [
    "plot = fldf[fldf.delta > 0].plot(kind='box', title=\"Distribution of days traveled first leg\")\n",
    "plot.scatter([1,1,1],[87,137,109], color='r')"
   ]
  },
  {
   "cell_type": "code",
   "execution_count": 13,
   "metadata": {},
   "outputs": [
    {
     "data": {
      "text/plain": [
       "<matplotlib.collections.PathCollection at 0x2ca8e50d490>"
      ]
     },
     "execution_count": 13,
     "metadata": {},
     "output_type": "execute_result"
    },
    {
     "data": {
      "image/png": "[encoded data removed]",
      "text/plain": [
       "<Figure size 432x288 with 1 Axes>"
      ]
     },
     "metadata": {
      "needs_background": "light"
     },
     "output_type": "display_data"
    }
   ],
   "source": [
    "plot = sldf[sldf.delta > 0].plot(kind='box', title= \"Distribution of days traveled second leg\")\n",
    "plot.scatter([1,1],[55,78], color='r')"
   ]
  },
  {
   "cell_type": "markdown",
   "metadata": {},
   "source": [
    "#### Qualitative analysis\n",
    "\n",
    "In the previous section, the artifact is used in data analysis. However, the artifact is also widely deployable for qualitative research. For example, the property P1:Voy Particulars illustrates the highlights of a voyage in a couple of sentences. We can retrieve the related particulars of the Hendrik Prins voyages to discover unusual or interesting facts."
   ]
  },
  {
   "cell_type": "code",
   "execution_count": 39,
   "metadata": {},
   "outputs": [],
   "source": [
    "sparql.setQuery(prefixes +\"\"\"\n",
    "SELECT ?voyage ?particular\n",
    "  WHERE {\n",
    "  ?participation histsocP:P10 <http://example.com/person/1042325>.\n",
    "  ?participation histsocP:P11 ?voyage.\n",
    "  ?voyage a cdfh:C1.\n",
    "  ?voyage dfhc:P1 ?particular\n",
    "}\n",
    "  \"\"\")"
   ]
  },
  {
   "cell_type": "code",
   "execution_count": 40,
   "metadata": {},
   "outputs": [
    {
     "data": {
      "text/html": [
       "<div>\n",
       "<style scoped>\n",
       "    .dataframe tbody tr th:only-of-type {\n",
       "        vertical-align: middle;\n",
       "    }\n",
       "\n",
       "    .dataframe tbody tr th {\n",
       "        vertical-align: top;\n",
       "    }\n",
       "\n",
       "    .dataframe thead th {\n",
       "        text-align: right;\n",
       "    }\n",
       "</style>\n",
       "<table border=\"1\" class=\"dataframe\">\n",
       "  <thead>\n",
       "    <tr style=\"text-align: right;\">\n",
       "      <th></th>\n",
       "      <th>particular</th>\n",
       "      <th>voyage</th>\n",
       "    </tr>\n",
       "  </thead>\n",
       "  <tbody>\n",
       "    <tr>\n",
       "      <th>0</th>\n",
       "      <td>Pieter Jellesz. was schout-by-nacht of the return fleet. The 117 men aboard the TOLSDUIN included 90 seafarers.</td>\n",
       "      <td>voyage/98050</td>\n",
       "    </tr>\n",
       "    <tr>\n",
       "      <th>1</th>\n",
       "      <td>After an accident on a voyage to Ambon the DELFLAND was laid up on 12-07-1746.</td>\n",
       "      <td>voyage/94248</td>\n",
       "    </tr>\n",
       "    <tr>\n",
       "      <th>2</th>\n",
       "      <td>The TOLSDUIN called at Duins (17-12-1743 till 06-01-1744) where 11 seafarers and 4 soldiers were pressed by the English. During the voyage one soldier became seafarer.</td>\n",
       "      <td>voyage/94327</td>\n",
       "    </tr>\n",
       "    <tr>\n",
       "      <th>3</th>\n",
       "      <td>At the Cape a stowaway, found on the TOLSDUIN, embarked on the EENDRACHT, which set out to Batavia on 22-03-1745 (3309).</td>\n",
       "      <td>voyage/98101</td>\n",
       "    </tr>\n",
       "  </tbody>\n",
       "</table>\n",
       "</div>"
      ],
      "text/plain": [
       "                                                                                                                                                                particular  \\\n",
       "0                                                          Pieter Jellesz. was schout-by-nacht of the return fleet. The 117 men aboard the TOLSDUIN included 90 seafarers.   \n",
       "1                                                                                           After an accident on a voyage to Ambon the DELFLAND was laid up on 12-07-1746.   \n",
       "2  The TOLSDUIN called at Duins (17-12-1743 till 06-01-1744) where 11 seafarers and 4 soldiers were pressed by the English. During the voyage one soldier became seafarer.   \n",
       "3                                                 At the Cape a stowaway, found on the TOLSDUIN, embarked on the EENDRACHT, which set out to Batavia on 22-03-1745 (3309).   \n",
       "\n",
       "         voyage  \n",
       "0  voyage/98050  \n",
       "1  voyage/94248  \n",
       "2  voyage/94327  \n",
       "3  voyage/98101  "
      ]
     },
     "metadata": {},
     "output_type": "display_data"
    }
   ],
   "source": [
    "qry = sparql.query().convert()\n",
    "df = pd.DataFrame(qry['results']['bindings'])\n",
    "df = df.applymap(lambda x: x['value'])\n",
    "dfn = df.replace(\"http://example.com/\",\"\",regex=True)\n",
    "pd.set_option('display.max_colwidth', None)\n",
    "display(dfn)"
   ]
  },
  {
   "cell_type": "markdown",
   "metadata": {},
   "source": [
    "Hendrik Prins sailed under the command on one of the schout-by-nacht' of the Replubic: Pieter Jelleszoon. Furthermore, they were pressed by the English at one point; it must have been thrilling. Finally, the crew of Prins found a stowaway when docked at the cape. Overall, an interesting life on board a VOC ship."
   ]
  },
  {
   "cell_type": "markdown",
   "metadata": {},
   "source": [
    "The Wind in our sails project does not only cover the moments of ships and their participants. It also features a connection with the bookkeeper's logs. Information about cargo shipped on the voyages is stored. With a query, we can retrieve the goods that were shipped on the voyages of Hendrik Prins."
   ]
  },
  {
   "cell_type": "code",
   "execution_count": 41,
   "metadata": {},
   "outputs": [],
   "source": [
    "sparql.setQuery(prefixes +\"\"\"\n",
    "SELECT DISTINCT ?voyage ?typename ?direction\n",
    "  WHERE {\n",
    "  ?participation histsocP:P10 <http://example.com/person/1042325>.\n",
    "  ?participation histsocP:P11 ?voyage.\n",
    "  OPTIONAL{?voyage dfhc:P2 ?direction}\n",
    "  ?voyage a cdfh:C1.\n",
    "  ?voyage dfhc:P10 ?good.\n",
    "  ?good crm:P2 ?type.\n",
    "  ?type crm:P1 ?typename.\n",
    "}\n",
    "  \"\"\")"
   ]
  },
  {
   "cell_type": "code",
   "execution_count": 42,
   "metadata": {},
   "outputs": [],
   "source": [
    "qry = sparql.query().convert()\n",
    "df = pd.DataFrame(qry['results']['bindings'])\n",
    "df = df.applymap(lambda x: x['value'])\n",
    "dfn = df.replace(\"http://example.com/\",\"\",regex=True)\n",
    "pd.set_option('display.max_colwidth', None)\n",
    "dfn.to_csv('test.csv')\n",
    "#dfn.to_latex('goods.tex',longtable=True)"
   ]
  },
  {
   "cell_type": "markdown",
   "metadata": {},
   "source": [
    "In the table above, the goods shipped on the voyages of Hendrik Prins are listed. In the outward voyages, goods for trading were brought along, such as velvet or silver. On the return voyage, the goods shipped were more diverse. From nutmeg to salmiak, the spices and goods flowed rich."
   ]
  },
  {
   "cell_type": "markdown",
   "metadata": {},
   "source": [
    "#### Career and conclusion \n",
    "\n",
    "There is no guarantee that the second Hendrik Prins from Delft is the same person as the first one. Overall, between the third and fourth contract, there is a gap of over eight years. We might check two things if we want to determine if the two entries are the same person. First, we can check if the debt letters of the entries refer to the same person. Second, we might check the career path of the participants to determine if there is a logical connection."
   ]
  },
  {
   "cell_type": "code",
   "execution_count": 43,
   "metadata": {},
   "outputs": [],
   "source": [
    "sparql.setQuery(prefixes +\"\"\"\n",
    "SELECT DISTINCT ?voyage ?typename ?direction\n",
    "  WHERE {\n",
    "?person histsocP:P24 <http://example.com/place/vocUniquePlaceID_1192>.\n",
    "<http://example.com/place/vocUniquePlaceID_1192> crm:P1 ?from.\n",
    "?person dfhc:P8 ?name.\n",
    "  ?relation histsocP:P17 ?person.\n",
    "filter contains(?name,\"Hendrik Prins\")\n",
    "}\n",
    "  \"\"\")"
   ]
  },
  {
   "cell_type": "code",
   "execution_count": 45,
   "metadata": {},
   "outputs": [
    {
     "name": "stdout",
     "output_type": "stream",
     "text": [
      "Empty DataFrame\n",
      "Columns: []\n",
      "Index: []\n"
     ]
    }
   ],
   "source": [
    "qry = sparql.query().convert()\n",
    "df = pd.DataFrame(qry['results']['bindings'])\n",
    "df = df.applymap(lambda x: x['value'])\n",
    "dfn = df.replace(\"http://example.com/\",\"\",regex=True)\n",
    "print(dfn)"
   ]
  },
  {
   "cell_type": "markdown",
   "metadata": {},
   "source": [
    "Unfortunately, both entries do not have a debt letter relation. Thus that trail ends here. The other trail, one of the careers, we can still follow. In the query below, the rank performed during the voyages is displayed."
   ]
  },
  {
   "cell_type": "code",
   "execution_count": 46,
   "metadata": {},
   "outputs": [],
   "source": [
    "sparql.setQuery(prefixes +\"\"\"\n",
    "SELECT ?person ?rank\n",
    "  WHERE {\n",
    "?person histsocP:P24 <http://example.com/place/vocUniquePlaceID_1192>.\n",
    "<http://example.com/place/vocUniquePlaceID_1192> crm:P1 ?from.\n",
    "?person dfhc:P8 ?name.\n",
    "  ?participation histsocP:P10 ?person.\n",
    "  ?participation histsocP:P12 ?rank.\n",
    "filter contains(?name,\"Hendrik Prins\")\n",
    "}\n",
    "  \"\"\")"
   ]
  },
  {
   "cell_type": "code",
   "execution_count": 47,
   "metadata": {},
   "outputs": [
    {
     "data": {
      "text/html": [
       "<div>\n",
       "<style scoped>\n",
       "    .dataframe tbody tr th:only-of-type {\n",
       "        vertical-align: middle;\n",
       "    }\n",
       "\n",
       "    .dataframe tbody tr th {\n",
       "        vertical-align: top;\n",
       "    }\n",
       "\n",
       "    .dataframe thead th {\n",
       "        text-align: right;\n",
       "    }\n",
       "</style>\n",
       "<table border=\"1\" class=\"dataframe\">\n",
       "  <thead>\n",
       "    <tr style=\"text-align: right;\">\n",
       "      <th></th>\n",
       "      <th>person</th>\n",
       "      <th>rank</th>\n",
       "    </tr>\n",
       "  </thead>\n",
       "  <tbody>\n",
       "    <tr>\n",
       "      <th>0</th>\n",
       "      <td>person/1042325</td>\n",
       "      <td>rank/sailor</td>\n",
       "    </tr>\n",
       "    <tr>\n",
       "      <th>1</th>\n",
       "      <td>person/1042325</td>\n",
       "      <td>rank/ship_gunner</td>\n",
       "    </tr>\n",
       "    <tr>\n",
       "      <th>2</th>\n",
       "      <td>person/1087798</td>\n",
       "      <td>rank/senior_weapons_master</td>\n",
       "    </tr>\n",
       "  </tbody>\n",
       "</table>\n",
       "</div>"
      ],
      "text/plain": [
       "           person                        rank\n",
       "0  person/1042325                 rank/sailor\n",
       "1  person/1042325            rank/ship_gunner\n",
       "2  person/1087798  rank/senior_weapons_master"
      ]
     },
     "metadata": {},
     "output_type": "display_data"
    }
   ],
   "source": [
    "qry = sparql.query().convert()\n",
    "df = pd.DataFrame(qry['results']['bindings'])\n",
    "df = df.applymap(lambda x: x['value'])\n",
    "dfn = df.replace(\"http://example.com/\",\"\",regex=True)\n",
    "display(dfn)"
   ]
  },
  {
   "cell_type": "markdown",
   "metadata": {},
   "source": [
    "The rank trail does yield some knowledge. Hendrik Prins started as a sailor, the base rank on a ship. He then moved to a more experienced role, the ship gunner. The ship gunner is still a sailor but also bears the responsibility of firing the canon in times of turmoil. The second entry of Hendrik Prins bears the role of senior weapons master (or Opperkonstabel in Dutch.) The weapons master is responsible for the weapons on board the ship. A rank that is not easily reached without experience. Thus, there is a good chance, due to missing records, Hendrik Prins had a career from sailor to the senior weapons master in his later years. "
   ]
  },
  {
   "cell_type": "markdown",
   "metadata": {},
   "source": [
    "The life of Hendrik Prins came to an end during voyage 94678. There is no reason stated, but the life on board of a ship could be harsh. During this particular voyage, seven other seafarers, six soldiers, and one craftsman perished. The table can be viewed below."
   ]
  }
 ],
 "metadata": {
  "kernelspec": {
   "display_name": "Python 3",
   "language": "python",
   "name": "python3"
  },
  "language_info": {
   "codemirror_mode": {
    "name": "ipython",
    "version": 3
   },
   "file_extension": ".py",
   "mimetype": "text/x-python",
   "name": "python",
   "nbconvert_exporter": "python",
   "pygments_lexer": "ipython3",
   "version": "3.8.3"
  }
 },
 "nbformat": 4,
 "nbformat_minor": 4
}
